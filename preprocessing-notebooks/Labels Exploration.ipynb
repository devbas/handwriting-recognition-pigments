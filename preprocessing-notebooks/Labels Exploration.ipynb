{
 "cells": [
  {
   "cell_type": "code",
   "execution_count": 33,
   "metadata": {},
   "outputs": [],
   "source": [
    "import pandas as pd"
   ]
  },
  {
   "cell_type": "code",
   "execution_count": 34,
   "metadata": {},
   "outputs": [],
   "source": [
    "raw_labels_df = pd.read_csv('../data/workbooks.csv', delimiter=';')\n",
    "\n",
    "raw_labels_df = raw_labels_df.rename(columns={'Ingredients ': 'Ingredients', 'Foto': 'image_id'})"
   ]
  },
  {
   "cell_type": "code",
   "execution_count": 35,
   "metadata": {},
   "outputs": [
    {
     "data": {
      "text/html": [
       "<div>\n",
       "<style scoped>\n",
       "    .dataframe tbody tr th:only-of-type {\n",
       "        vertical-align: middle;\n",
       "    }\n",
       "\n",
       "    .dataframe tbody tr th {\n",
       "        vertical-align: top;\n",
       "    }\n",
       "\n",
       "    .dataframe thead th {\n",
       "        text-align: right;\n",
       "    }\n",
       "</style>\n",
       "<table border=\"1\" class=\"dataframe\">\n",
       "  <thead>\n",
       "    <tr style=\"text-align: right;\">\n",
       "      <th></th>\n",
       "      <th>image_id</th>\n",
       "      <th>Date</th>\n",
       "      <th>Number</th>\n",
       "      <th>Name</th>\n",
       "      <th>Ingredients</th>\n",
       "    </tr>\n",
       "  </thead>\n",
       "  <tbody>\n",
       "    <tr>\n",
       "      <th>0</th>\n",
       "      <td>4574</td>\n",
       "      <td>NaN</td>\n",
       "      <td>2156</td>\n",
       "      <td>Kobaltviolet donker</td>\n",
       "      <td>1500 Cobaltviolet clair, RR</td>\n",
       "    </tr>\n",
       "    <tr>\n",
       "      <th>1</th>\n",
       "      <td>NaN</td>\n",
       "      <td>NaN</td>\n",
       "      <td>NaN</td>\n",
       "      <td>NaN</td>\n",
       "      <td>100 Echtviolet 33</td>\n",
       "    </tr>\n",
       "    <tr>\n",
       "      <th>2</th>\n",
       "      <td>NaN</td>\n",
       "      <td>NaN</td>\n",
       "      <td>NaN</td>\n",
       "      <td>NaN</td>\n",
       "      <td>20 A + 130 F vers</td>\n",
       "    </tr>\n",
       "    <tr>\n",
       "      <th>3</th>\n",
       "      <td>NaN</td>\n",
       "      <td>NaN</td>\n",
       "      <td>NaN</td>\n",
       "      <td>NaN</td>\n",
       "      <td>130 Papaverolie</td>\n",
       "    </tr>\n",
       "    <tr>\n",
       "      <th>4</th>\n",
       "      <td>NaN</td>\n",
       "      <td>NaN</td>\n",
       "      <td>NaN</td>\n",
       "      <td>NaN</td>\n",
       "      <td>+ 110 Papaverolie</td>\n",
       "    </tr>\n",
       "  </tbody>\n",
       "</table>\n",
       "</div>"
      ],
      "text/plain": [
       "  image_id Date Number                 Name                  Ingredients\n",
       "0     4574  NaN   2156  Kobaltviolet donker  1500 Cobaltviolet clair, RR\n",
       "1      NaN  NaN    NaN                  NaN            100 Echtviolet 33\n",
       "2      NaN  NaN    NaN                  NaN            20 A + 130 F vers\n",
       "3      NaN  NaN    NaN                  NaN              130 Papaverolie\n",
       "4      NaN  NaN    NaN                  NaN            + 110 Papaverolie"
      ]
     },
     "execution_count": 35,
     "metadata": {},
     "output_type": "execute_result"
    }
   ],
   "source": [
    "raw_labels_df.head()"
   ]
  },
  {
   "cell_type": "code",
   "execution_count": 36,
   "metadata": {},
   "outputs": [],
   "source": [
    "labels_df = pd.DataFrame([], columns=['image_id', 'Date', 'Number', 'Name', 'Ingredients', 'Image'])\n",
    "labels_df.set_index('image_id', inplace=True)\n",
    "reference_window = None \n",
    "\n",
    "def isNaN(num):\n",
    "    return num != num\n",
    "\n",
    "for index, label in raw_labels_df.iterrows(): \n",
    "    try: \n",
    "        if not isNaN(label.Name): \n",
    "            if reference_window is not None: \n",
    "                labels_df = labels_df.append(reference_window, ignore_index=True)\n",
    "            reference_window = label \n",
    "        elif not isNaN(label.Ingredients): \n",
    "            reference_window.Ingredients = reference_window.Ingredients + ', ' + label.Ingredients\n",
    "    except: \n",
    "        print(label)"
   ]
  },
  {
   "cell_type": "code",
   "execution_count": 37,
   "metadata": {},
   "outputs": [
    {
     "name": "stdout",
     "output_type": "stream",
     "text": [
      "<class 'str'>\n",
      "<class 'str'>\n",
      "<class 'str'>\n",
      "<class 'str'>\n",
      "<class 'str'>\n",
      "Date                NaN\n",
      "Number             2332\n",
      "Name           Titanwit\n",
      "Ingredients         NaN\n",
      "Image               NaN\n",
      "image_id           7067\n",
      "Name: 1458, dtype: object\n",
      "Date                   NaN\n",
      "Number                 NaN\n",
      "Name           Receptcaard\n",
      "Ingredients            NaN\n",
      "Image                  NaN\n",
      "image_id              7078\n",
      "Name: 1469, dtype: object\n",
      "Date                                        18-Nov\n",
      "Number                                         627\n",
      "Name           Zinkwit speciale soort voor Amerika\n",
      "Ingredients                                    NaN\n",
      "Image                                          NaN\n",
      "image_id                                      7241\n",
      "Name: 1627, dtype: object\n",
      "Date                                                         NaN\n",
      "Number                                                       756\n",
      "Name           Cadmiumrood licht extra voor Vermiljoen Holl f...\n",
      "Ingredients                                                  NaN\n",
      "Image                                                        NaN\n",
      "image_id                                                    7271\n",
      "Name: 1657, dtype: object\n",
      "Date                                      NaN\n",
      "Number                                    975\n",
      "Name           Ultramarijn imit voor Glasverf\n",
      "Ingredients                               NaN\n",
      "Image                                     NaN\n",
      "image_id                                 7346\n",
      "Name: 1731, dtype: object\n",
      "Date                              23-Jan\n",
      "Number                              1408\n",
      "Name           Kobalt violet licht fijn \n",
      "Ingredients                          NaN\n",
      "Image                                NaN\n",
      "image_id                            7470\n",
      "Name: 1863, dtype: object\n",
      "Date                          17-Aug\n",
      "Number                          1789\n",
      "Name           Asfalt studie + fijn \n",
      "Ingredients                      NaN\n",
      "Image                            NaN\n",
      "image_id                        7569\n",
      "Name: 1964, dtype: object\n",
      "Date                                                      2.3.\n",
      "Number                                                     NaN\n",
      "Name           Speciale Soor voor Bart Peisel zonder siccatief\n",
      "Ingredients                                                NaN\n",
      "Image                                                      NaN\n",
      "image_id                                                  8549\n",
      "Name: 2604, dtype: object\n",
      "Date                                    NaN\n",
      "Number                                  NaN\n",
      "Name           Napelschgeel different tones\n",
      "Ingredients                             NaN\n",
      "Image                                   NaN\n",
      "image_id                                NaN\n",
      "Name: 2605, dtype: object\n"
     ]
    }
   ],
   "source": [
    "all_ingredients = []\n",
    "i = 0\n",
    "for index, row in labels_df.iterrows():\n",
    "    ingredients = row['Ingredients']\n",
    "    try: \n",
    "        all_ingredients.extend(ingredients.split(','))\n",
    "    except: \n",
    "        print(row)\n",
    "    if i < 5: \n",
    "        print(type(ingredients))\n",
    "    i = i+1"
   ]
  },
  {
   "cell_type": "code",
   "execution_count": 38,
   "metadata": {},
   "outputs": [
    {
     "name": "stdout",
     "output_type": "stream",
     "text": [
      "(' 5 x malen', 454)\n",
      "(' 6 x malen', 322)\n",
      "(' Maaltijd 8 uur', 287)\n",
      "(' Maaltijd 10 uur', 266)\n",
      "(' 8 x malen', 228)\n",
      "(' 100 Pale Terebine', 208)\n",
      "(' 4 x malen', 150)\n",
      "(' Maaltijd 7 uur', 149)\n",
      "(' 200 NB vers', 125)\n",
      "(' 3000 witpoeder', 124)\n",
      "(' Maaltijd 6 uur', 118)\n",
      "(' 500 Lijnolie', 114)\n",
      "(' Maaltijd 12 uur', 113)\n",
      "(' 150 Pale Terebine', 111)\n",
      "(' 3000 Gips', 110)\n",
      "(' 2000 witpoeder', 110)\n",
      "(' 180 Pale Terebine', 109)\n",
      "(' 50 Pale Terebine', 105)\n",
      "(' 200 NB', 103)\n",
      "(' 10 x malen', 100)\n"
     ]
    }
   ],
   "source": [
    "from collections import Counter\n",
    "\n",
    "occurences = Counter(all_ingredients)\n",
    "sorted_list = sorted(occurences.items(), key=lambda item: item[1])\n",
    "\n",
    "counter = 0 \n",
    "for i in reversed(sorted_list):\n",
    "    if counter < 20: \n",
    "        print(i)\n",
    "    counter = counter + 1"
   ]
  },
  {
   "cell_type": "code",
   "execution_count": 39,
   "metadata": {},
   "outputs": [
    {
     "data": {
      "text/plain": [
       "6503"
      ]
     },
     "execution_count": 39,
     "metadata": {},
     "output_type": "execute_result"
    }
   ],
   "source": [
    "len(sorted_list)"
   ]
  },
  {
   "cell_type": "code",
   "execution_count": null,
   "metadata": {},
   "outputs": [],
   "source": []
  }
 ],
 "metadata": {
  "kernelspec": {
   "display_name": "Python 3",
   "language": "python",
   "name": "python3"
  },
  "language_info": {
   "codemirror_mode": {
    "name": "ipython",
    "version": 3
   },
   "file_extension": ".py",
   "mimetype": "text/x-python",
   "name": "python",
   "nbconvert_exporter": "python",
   "pygments_lexer": "ipython3",
   "version": "3.7.4"
  }
 },
 "nbformat": 4,
 "nbformat_minor": 2
}
