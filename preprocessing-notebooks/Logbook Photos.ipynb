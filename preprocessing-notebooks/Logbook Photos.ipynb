{
 "cells": [
  {
   "cell_type": "code",
   "execution_count": 1,
   "metadata": {},
   "outputs": [],
   "source": [
    "import os\n",
    "import pandas as pd\n",
    "import cv2\n",
    "import math\n",
    "from tqdm import tqdm\n",
    "import matplotlib.pyplot as plt\n",
    "import numpy as np"
   ]
  },
  {
   "cell_type": "code",
   "execution_count": 2,
   "metadata": {},
   "outputs": [],
   "source": [
    "def image_resize(image, width = None, height = None, inter = cv2.INTER_AREA):\n",
    "    # initialize the dimensions of the image to be resized and\n",
    "    # grab the image size\n",
    "    dim = None\n",
    "    (h, w) = image.shape[:2]\n",
    "\n",
    "    # if both the width and height are None, then return the\n",
    "    # original image\n",
    "    if width is None and height is None:\n",
    "        return image\n",
    "\n",
    "    # check to see if the width is None\n",
    "    if width is None:\n",
    "        # calculate the ratio of the height and construct the\n",
    "        # dimensions\n",
    "        r = height / float(h)\n",
    "        dim = (int(w * r), height)\n",
    "\n",
    "    # otherwise, the height is None\n",
    "    else:\n",
    "        # calculate the ratio of the width and construct the\n",
    "        # dimensions\n",
    "        r = width / float(w)\n",
    "        dim = (width, int(h * r))\n",
    "\n",
    "    # resize the image\n",
    "    resized = cv2.resize(image, dim, interpolation = inter)\n",
    "\n",
    "    # return the resized image\n",
    "    return resized"
   ]
  },
  {
   "cell_type": "code",
   "execution_count": null,
   "metadata": {},
   "outputs": [
    {
     "name": "stderr",
     "output_type": "stream",
     "text": [
      "100%|██████████| 956/956 [07:31<00:00,  2.12it/s]\n",
      "100%|██████████| 396/396 [06:28<00:00,  1.02it/s]\n",
      "100%|██████████| 670/670 [14:26<00:00,  1.29s/it]\n",
      "100%|██████████| 502/502 [10:33<00:00,  1.26s/it]\n",
      "100%|██████████| 1490/1490 [35:50<00:00,  1.44s/it]\n",
      "100%|██████████| 266/266 [06:15<00:00,  1.41s/it]\n",
      "  3%|▎         | 9/314 [00:11<07:11,  1.42s/it]"
     ]
    }
   ],
   "source": [
    "def preprocess_images_from_folder(folder, subfolder): \n",
    "    images = []\n",
    "    for filename in tqdm(os.listdir(os.path.join(folder, subfolder))):\n",
    "        img = cv2.imread(os.path.join(os.path.join(folder, subfolder), filename))\n",
    "        if img is not None: \n",
    "            \n",
    "            # 1. Dilate the image, to get rid of the text\n",
    "            dilated_img = cv2.dilate(img, np.ones((32,32), np.uint8))\n",
    "            \n",
    "            # 2. Median blur the result with a decent sized kernel to further suppress any text.\n",
    "            bg_img = cv2.medianBlur(dilated_img, 23)\n",
    "\n",
    "            # 3. Calculate the difference between the original and the background we just obtained. The bits that are identical will be black (close to 0 difference), the text will be white (large difference).\n",
    "            diff_img = 255 - cv2.absdiff(img, bg_img)\n",
    "\n",
    "            # 4. Normalize the image, so that we use the full dynamic range.\n",
    "            norm_img = diff_img.copy() # Needed for 3.x compatibility\n",
    "            end_one_img = cv2.normalize(diff_img, norm_img, alpha=0, beta=255, norm_type=cv2.NORM_MINMAX, dtype=cv2.CV_8UC1)\n",
    "\n",
    "            # 5. Truncate the remaining gray away and re-normalize the image\n",
    "            _, thr_img = cv2.threshold(norm_img, 255, 0, cv2.THRESH_TRUNC)\n",
    "            end_img = cv2.normalize(thr_img, thr_img, alpha=0, beta=255, norm_type=cv2.NORM_MINMAX, dtype=cv2.CV_8UC1)\n",
    "            \n",
    "            resized = image_resize(end_img, width=1024)\n",
    "            \n",
    "            new_image = np.zeros(resized.shape, resized.dtype)\n",
    "            alpha = 1.0 # Simple contrast control\n",
    "            beta = 5    # Simple brightness control\n",
    "\n",
    "            new_image = cv2.convertScaleAbs(resized, alpha=alpha, beta=beta)\n",
    "            \n",
    "            colorized_img = cv2.cvtColor(new_image, cv2.COLOR_BGR2RGB)\n",
    "            \n",
    "            result = cv2.imwrite('../processed_data/logbooks/' + subfolder + '/' + filename, colorized_img)\n",
    "\n",
    "folder = '/Volumes/LACIE SHARE/Logboek Fotos/'\n",
    "subfolders = [dI for dI in os.listdir(folder) if os.path.isdir(os.path.join(folder,dI))]\n",
    "\n",
    "for subfolder in subfolders:  \n",
    "    images = preprocess_images_from_folder(folder, subfolder)"
   ]
  },
  {
   "cell_type": "code",
   "execution_count": null,
   "metadata": {},
   "outputs": [],
   "source": []
  }
 ],
 "metadata": {
  "kernelspec": {
   "display_name": "Python 3",
   "language": "python",
   "name": "python3"
  },
  "language_info": {
   "codemirror_mode": {
    "name": "ipython",
    "version": 3
   },
   "file_extension": ".py",
   "mimetype": "text/x-python",
   "name": "python",
   "nbconvert_exporter": "python",
   "pygments_lexer": "ipython3",
   "version": "3.7.4"
  }
 },
 "nbformat": 4,
 "nbformat_minor": 2
}
